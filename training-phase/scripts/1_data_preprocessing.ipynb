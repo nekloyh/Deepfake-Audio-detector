{
 "cells": [
  {
   "cell_type": "code",
   "execution_count": 4,
   "id": "2d65ba14",
   "metadata": {},
   "outputs": [],
   "source": [
    "import os\n",
    "import pandas as pd"
   ]
  },
  {
   "cell_type": "code",
   "execution_count": 5,
   "id": "fcaad837",
   "metadata": {},
   "outputs": [],
   "source": [
    "def generate_metadata(root_dir, output_csv, file_extensions):\n",
    "    metadata = []\n",
    "\n",
    "    domain_mapping = {\n",
    "    #    \"for-2sec\\\\for-2seconds\": \"2seconds\",\n",
    "        \"for-norm\\\\for-norm\": \"norm\",\n",
    "        \"for-original\\\\for-original\": \"original\",\n",
    "        \"for-rerec\\\\for-rerecorded\": \"rerecorded\",\n",
    "    }\n",
    "\n",
    "    domain_path_continue = [\n",
    "    #    \"for-2sec\\\\for-2seconds\",\n",
    "        \"for-norm\\\\for-norm\",\n",
    "        \"for-original\\\\for-original\",\n",
    "        \"for-rerec\\\\for-rerecorded\",\n",
    "    ]\n",
    "\n",
    "    set_type = [\n",
    "        \"testing\",\n",
    "        \"training\",\n",
    "        \"validation\",\n",
    "    ]\n",
    "    \n",
    "    for domain_folder_name in domain_path_continue:\n",
    "        domain_path = os.path.join(root_dir, domain_folder_name)\n",
    "        if not os.path.isdir(domain_path):\n",
    "            continue\n",
    "\n",
    "        domain = domain_mapping.get(domain_folder_name.lower(), domain_folder_name)\n",
    "\n",
    "        for split_folder_name in set_type:\n",
    "            split_path = os.path.join(domain_path, split_folder_name)\n",
    "            if not os.path.isdir(split_path):\n",
    "                continue\n",
    "\n",
    "            for label in [\"fake\", \"real\"]:\n",
    "                label_path = os.path.join(split_path, label)\n",
    "                if not os.path.isdir(label_path):\n",
    "                    continue\n",
    "                \n",
    "                for filename in os.listdir(label_path):\n",
    "                    file_path = os.path.join(label_path, filename)\n",
    "\n",
    "                    if os.path.isfile(file_path) and any(filename.lower().endswith(ext) for ext in file_extensions):\n",
    "                        first_part = filename.split(\".\")[0]\n",
    "                        utterance_id = first_part[4:]\n",
    "\n",
    "                        metadata.append(\n",
    "                            {\n",
    "                                \"file_path\": file_path,\n",
    "                                \"label\": label,  \n",
    "                                \"source_dataset\": \"FakeOrReal\", \n",
    "                                \"domain\": domain,\n",
    "                                \"speaker_id\": \"\",  \n",
    "                                \"utterance_id\": utterance_id,\n",
    "                                \"split\": split_folder_name, \n",
    "                            }\n",
    "                        )\n",
    "\n",
    "    df = pd.DataFrame(metadata)\n",
    "    df.to_csv(output_csv, index=False)\n",
    "    print(f\"Đã tạo file metadata CSV tại: {output_csv}\")\n",
    "    print(f\"Tổng số bản ghi: {len(df)}\")\n",
    "    print(\"Vui lòng điền cột 'label' (fake/real) vào file CSV này.\")\n",
    "    print(\"Sau khi điền, bạn có thể chạy script tổ chức lại dataset.\")\n"
   ]
  },
  {
   "cell_type": "code",
   "execution_count": 6,
   "id": "7d2a4d82",
   "metadata": {},
   "outputs": [
    {
     "name": "stdout",
     "output_type": "stream",
     "text": [
      "Đã tạo file metadata CSV tại: F:\\Deepfake-Audio-Detector\\datasets\\for-dataset\\generated_metadata.csv\n",
      "Tổng số bản ghi: 123481\n",
      "Vui lòng điền cột 'label' (fake/real) vào file CSV này.\n",
      "Sau khi điền, bạn có thể chạy script tổ chức lại dataset.\n"
     ]
    }
   ],
   "source": [
    "DATASET_ROOT_DIR = \"F:\\\\Deepfake-Audio-Detector\\\\datasets\\\\for-dataset\"\n",
    "OUTPUT_METADATA_CSV = \"F:\\\\Deepfake-Audio-Detector\\\\datasets\\\\for-dataset\\\\generated_metadata.csv\"\n",
    "FILE_EXTENSIONS = [\".wav\", \".npy\", \".png\", \"flac\"]\n",
    "\n",
    "if __name__ == \"__main__\":\n",
    "    generate_metadata(DATASET_ROOT_DIR, OUTPUT_METADATA_CSV, FILE_EXTENSIONS)\n"
   ]
  },
  {
   "cell_type": "code",
   "execution_count": null,
   "id": "89b27810",
   "metadata": {},
   "outputs": [],
   "source": []
  }
 ],
 "metadata": {
  "kernelspec": {
   "display_name": "Python 3",
   "language": "python",
   "name": "python3"
  },
  "language_info": {
   "codemirror_mode": {
    "name": "ipython",
    "version": 3
   },
   "file_extension": ".py",
   "mimetype": "text/x-python",
   "name": "python",
   "nbconvert_exporter": "python",
   "pygments_lexer": "ipython3",
   "version": "3.10.16"
  }
 },
 "nbformat": 4,
 "nbformat_minor": 5
}
