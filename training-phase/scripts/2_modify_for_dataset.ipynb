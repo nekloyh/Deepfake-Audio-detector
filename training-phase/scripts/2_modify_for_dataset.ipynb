{
 "cells": [
  {
   "cell_type": "code",
   "execution_count": 5,
   "id": "f57f5d4e",
   "metadata": {},
   "outputs": [],
   "source": [
    "import pandas as pd\n",
    "import os\n",
    "from sklearn.model_selection import train_test_split\n",
    "import shutil"
   ]
  },
  {
   "cell_type": "code",
   "execution_count": null,
   "id": "1d88a271",
   "metadata": {},
   "outputs": [
    {
     "name": "stdout",
     "output_type": "stream",
     "text": [
      "Đã tải metadata từ: F:\\Deepfake-Audio-Detector\\datasets\\for-dataset\\generated_metadata.csv\n",
      "Tổng số bản ghi: 123481\n"
     ]
    }
   ],
   "source": [
    "METADATA_CSV_PATH = \"F:\\\\Deepfake-Audio-Detector\\\\datasets\\\\for-dataset\\\\generated_metadata.csv\"\n",
    "OUTPUT_DATASET_DIR = \"F:\\\\Deepfake-Audio-Detector\\\\datasets\\\\new_for_dataset\"\n",
    "\n",
    "try:\n",
    "    df = pd.read_csv(METADATA_CSV_PATH)\n",
    "    print(f\"Đã tải metadata từ: {METADATA_CSV_PATH}\")\n",
    "    print(f\"Tổng số bản ghi: {len(df)}\")\n",
    "except FileNotFoundError:\n",
    "    print(\n",
    "        f\"Lỗi: Không tìm thấy file metadata CSV tại {METADATA_CSV_PATH}. Vui lòng kiểm tra đường dẫn.\"\n",
    "    )\n",
    "    exit()"
   ]
  },
  {
   "cell_type": "code",
   "execution_count": 7,
   "id": "04838ff5",
   "metadata": {},
   "outputs": [],
   "source": [
    "required_columns = [\"utterance_id\", \"label\", \"domain\", \"file_path\"]\n",
    "if not all(col in df.columns for col in required_columns):\n",
    "    print(f\"Lỗi: File metadata CSV phải chứa các cột sau: {required_columns}\")\n",
    "    exit()\n",
    "\n",
    "df[\"label\"] = df[\"label\"].astype(str).str.lower()\n",
    "df = df[df[\"label\"].isin([\"real\", \"fake\"])]\n",
    "if df.empty:\n",
    "    print(\n",
    "        \"Lỗi: Không có bản ghi hợp lệ nào với nhãn 'real' hoặc 'fake' sau khi làm sạch.\"\n",
    "    )\n",
    "    exit()\n"
   ]
  },
  {
   "cell_type": "code",
   "execution_count": 8,
   "id": "e1aac907",
   "metadata": {},
   "outputs": [
    {
     "name": "stdout",
     "output_type": "stream",
     "text": [
      "Tổng số utterance_id duy nhất: 47730\n",
      "Số lượng utterance_id trong tập train: 33411\n",
      "Số lượng utterance_id trong tập val: 4773\n",
      "Số lượng utterance_id trong tập test: 9546\n"
     ]
    }
   ],
   "source": [
    "unique_ids = df[\"utterance_id\"].unique()\n",
    "print(f\"Tổng số utterance_id duy nhất: {len(unique_ids)}\")\n",
    "\n",
    "train_ids, test_ids = train_test_split(unique_ids, test_size=0.2, random_state=42)\n",
    "train_ids, val_ids = train_test_split(train_ids, test_size=0.125, random_state=42)  \n",
    "\n",
    "print(f\"Số lượng utterance_id trong tập train: {len(train_ids)}\")\n",
    "print(f\"Số lượng utterance_id trong tập val: {len(val_ids)}\")\n",
    "print(f\"Số lượng utterance_id trong tập test: {len(test_ids)}\")\n",
    "\n",
    "def assign_split(row):\n",
    "    if row[\"utterance_id\"] in test_ids:\n",
    "        return \"test\"\n",
    "    elif row[\"utterance_id\"] in val_ids:\n",
    "        return \"val\"\n",
    "    else:\n",
    "        return \"train\"\n",
    "\n",
    "\n",
    "df[\"split\"] = df.apply(assign_split, axis=1)"
   ]
  },
  {
   "cell_type": "code",
   "execution_count": 9,
   "id": "d6c00866",
   "metadata": {},
   "outputs": [
    {
     "name": "stdout",
     "output_type": "stream",
     "text": [
      "Tổng số bản ghi sau khi xử lý domain: 100755\n"
     ]
    }
   ],
   "source": [
    "# --- Bước 3: Tăng cường số lượng sample (không rò rỉ) ---\n",
    "processed_df_list = []\n",
    "for split_type in [\"train\", \"val\", \"test\"]:\n",
    "    split_df = df[df[\"split\"] == split_type].copy()\n",
    "    if split_type in [\"val\", \"test\"]:\n",
    "        split_df[\"domain_priority\"] = split_df[\"domain\"].apply(\n",
    "            lambda x: 0 if x == \"original\" else 1\n",
    "        )\n",
    "        \n",
    "        split_df = split_df.sort_values(\n",
    "            by=[\"utterance_id\", \"domain_priority\"]\n",
    "        ).drop_duplicates(subset=[\"utterance_id\"], keep=\"first\")\n",
    "        split_df = split_df.drop(columns=[\"domain_priority\"])\n",
    "    processed_df_list.append(split_df)\n",
    "\n",
    "final_df = pd.concat(processed_df_list).reset_index(drop=True)\n",
    "print(f\"Tổng số bản ghi sau khi xử lý domain: {len(final_df)}\")"
   ]
  },
  {
   "cell_type": "code",
   "execution_count": 10,
   "id": "f6b1aa98",
   "metadata": {},
   "outputs": [
    {
     "name": "stdout",
     "output_type": "stream",
     "text": [
      "Đã tạo thư mục: F:\\Deepfake-Audio-Detector\\datasets\\train\\fake\n",
      "Đã tạo thư mục: F:\\Deepfake-Audio-Detector\\datasets\\train\\real\n",
      "Đã tạo thư mục: F:\\Deepfake-Audio-Detector\\datasets\\val\\fake\n",
      "Đã tạo thư mục: F:\\Deepfake-Audio-Detector\\datasets\\val\\real\n",
      "Đã tạo thư mục: F:\\Deepfake-Audio-Detector\\datasets\\test\\fake\n",
      "Đã tạo thư mục: F:\\Deepfake-Audio-Detector\\datasets\\test\\real\n",
      "Quá trình hoàn tất.\n",
      "Tổng số file âm thanh đã di chuyển/sao chép: 100755\n",
      "Tổng số file âm thanh bị bỏ qua (không tìm thấy): 0\n",
      "Cấu trúc dataset đã được tạo tại: F:\\Deepfake-Audio-Detector\\datasets\n"
     ]
    }
   ],
   "source": [
    "# --- Bước 4: Tạo cấu trúc thư mục chuẩn và di chuyển file ---\n",
    "# Tạo thư mục gốc dataset nếu chưa tồn tại\n",
    "os.makedirs(OUTPUT_DATASET_DIR, exist_ok=True)\n",
    "\n",
    "# Tạo các thư mục con\n",
    "for split_type in [\"train\", \"val\", \"test\"]:\n",
    "    for label_type in [\"fake\", \"real\"]:\n",
    "        path = os.path.join(OUTPUT_DATASET_DIR, split_type, label_type)\n",
    "        os.makedirs(path, exist_ok=True)\n",
    "        print(f\"Đã tạo thư mục: {path}\")\n",
    "\n",
    "# Di chuyển các file âm thanh gốc\n",
    "count_moved = 0\n",
    "count_skipped = 0\n",
    "for index, row in final_df.iterrows():\n",
    "    # Lấy đường dẫn file âm thanh gốc từ cột 'file_path'\n",
    "    source_audio_file_path = row[\"file_path\"]\n",
    "    label = row[\"label\"]\n",
    "    split = row[\"split\"]\n",
    "\n",
    "    # Lấy tên file gốc (bao gồm cả các hậu tố .wav_16k.wav_norm.wav...)\n",
    "    original_filename = os.path.basename(source_audio_file_path)\n",
    "\n",
    "    # Đường dẫn đích trong cấu trúc dataset mới\n",
    "    destination_audio_file_path = os.path.join(\n",
    "        OUTPUT_DATASET_DIR, split, label, original_filename\n",
    "    )\n",
    "\n",
    "    if os.path.exists(source_audio_file_path):\n",
    "        try:\n",
    "            # Sử dụng shutil.copy để sao chép file\n",
    "            shutil.copy(\n",
    "                source_audio_file_path, destination_audio_file_path\n",
    "            )  # Hoặc shutil.move nếu bạn muốn di chuyển hẳn\n",
    "            count_moved += 1\n",
    "        except Exception as e:\n",
    "            print(\n",
    "                f\"Lỗi khi di chuyển/sao chép file {source_audio_file_path} đến {destination_audio_file_path}: {e}\"\n",
    "            )\n",
    "    else:\n",
    "        print(\n",
    "            f\"Cảnh báo: Không tìm thấy file âm thanh gốc tại {source_audio_file_path}. Bỏ qua.\"\n",
    "        )\n",
    "        count_skipped += 1\n",
    "\n",
    "print(\"Quá trình hoàn tất.\")\n",
    "print(f\"Tổng số file âm thanh đã di chuyển/sao chép: {count_moved}\")\n",
    "print(f\"Tổng số file âm thanh bị bỏ qua (không tìm thấy): {count_skipped}\")\n",
    "print(f\"Cấu trúc dataset đã được tạo tại: {OUTPUT_DATASET_DIR}\")"
   ]
  },
  {
   "cell_type": "code",
   "execution_count": null,
   "id": "10bedaca",
   "metadata": {},
   "outputs": [],
   "source": [
    "# old_path = \"F:\\\\Deepfake-Audio-Detector\\\\datasets\\\\for-dataset\"\n",
    "# new_path = \"F:\\\\Deepfake-Audio-Detector\\\\datasets\\\\old_for_dataset\"\n",
    "# if os.path.exists(new_path):\n",
    "#     print(f\"Thư mục '{new_path}' đã tồn tại.\")\n",
    "# else:\n",
    "#     os.rename(old_path, new_path)\n",
    "#     print(f\"Đã đổi tên '{old_path}' thành '{new_path}'.\")"
   ]
  },
  {
   "cell_type": "code",
   "execution_count": null,
   "id": "4719273d",
   "metadata": {},
   "outputs": [],
   "source": [
    "# set_types = [\"train\", \"val\", \"test\"]\n",
    "# base_dir = \"F:\\\\Deepfake-Audio-Detector\\\\datasets\"\n",
    "# base_destination = \"F:\\\\Deepfake-Audio-Detector\\\\datasets\\\\for-dataset\"\n",
    "# os.makedirs(base_destination, exist_ok=True)\n",
    "\n",
    "# for set_type in set_types:\n",
    "#     base_dir_path = os.path.join(base_dir, set_type)\n",
    "#     if os.path.exists(base_dir_path):\n",
    "        \n",
    "#         shutil.move(base_dir_path, base_destination)\n",
    "#         print(f\"Đã di chuyển thư mục {base_dir_path} đến for-dataset.\")\n",
    "#     else:\n",
    "#         print(f\"Thư mục {base_dir_path} không tồn tại, không cần di chuyển.\")"
   ]
  },
  {
   "cell_type": "code",
   "execution_count": null,
   "id": "637038b0",
   "metadata": {},
   "outputs": [],
   "source": []
  }
 ],
 "metadata": {
  "kernelspec": {
   "display_name": "Python 3",
   "language": "python",
   "name": "python3"
  },
  "language_info": {
   "codemirror_mode": {
    "name": "ipython",
    "version": 3
   },
   "file_extension": ".py",
   "mimetype": "text/x-python",
   "name": "python",
   "nbconvert_exporter": "python",
   "pygments_lexer": "ipython3",
   "version": "3.10.16"
  }
 },
 "nbformat": 4,
 "nbformat_minor": 5
}
