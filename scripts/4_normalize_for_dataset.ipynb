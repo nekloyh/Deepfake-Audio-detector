{
 "cells": [
  {
   "cell_type": "code",
   "execution_count": 2,
   "id": "a5b62c59",
   "metadata": {},
   "outputs": [],
   "source": [
    "import os\n",
    "import librosa\n",
    "import numpy as np\n",
    "from tqdm import tqdm\n",
    "import matplotlib.pyplot as plt\n",
    "import seaborn as sns"
   ]
  },
  {
   "cell_type": "code",
   "execution_count": 3,
   "id": "de897003",
   "metadata": {},
   "outputs": [],
   "source": [
    "def analyze_durations(dataset_path, class_name):\n",
    "    durations = []\n",
    "    input_dir = os.path.join(dataset_path, class_name)\n",
    "    for file in tqdm(\n",
    "        os.listdir(input_dir), desc=f\"Analyzing {dataset_path}\\\\{class_name} durations\"\n",
    "    ):\n",
    "        audio_path = os.path.join(input_dir, file)\n",
    "        try:\n",
    "            duration = librosa.get_duration(filename=audio_path)\n",
    "            durations.append(duration)\n",
    "        except:\n",
    "            print(f\"Error reading {file}\")\n",
    "    return durations\n"
   ]
  },
  {
   "cell_type": "code",
   "execution_count": 4,
   "id": "43e0cd71",
   "metadata": {},
   "outputs": [],
   "source": [
    "HISTOGRAM_BIN_SIZE = 0.5\n",
    "MIN_PLOT_DURATION_SEC = 0.0  # Change this to 'a'\n",
    "MAX_PLOT_DURATION_SEC = 30.0"
   ]
  },
  {
   "cell_type": "code",
   "execution_count": null,
   "id": "2b0f9604",
   "metadata": {},
   "outputs": [
    {
     "name": "stderr",
     "output_type": "stream",
     "text": [
      "Analyzing F:\\Deepfake-Audio-Detector\\datasets\\for-dataset\\train\\real durations:   0%|          | 0/50130 [00:00<?, ?it/s]"
     ]
    },
    {
     "name": "stderr",
     "output_type": "stream",
     "text": [
      "C:\\Users\\Nekloyh\\AppData\\Local\\Temp\\ipykernel_31164\\1797470287.py:9: FutureWarning: get_duration() keyword argument 'filename' has been renamed to 'path' in version 0.10.0.\n",
      "\tThis alias will be removed in version 1.0.\n",
      "  duration = librosa.get_duration(filename=audio_path)\n",
      "Analyzing F:\\Deepfake-Audio-Detector\\datasets\\for-dataset\\train\\real durations: 100%|██████████| 50130/50130 [08:26<00:00, 98.88it/s] \n",
      "Analyzing F:\\Deepfake-Audio-Detector\\datasets\\for-dataset\\train\\fake durations:   0%|          | 0/32976 [00:00<?, ?it/s]C:\\Users\\Nekloyh\\AppData\\Local\\Temp\\ipykernel_31164\\1797470287.py:9: FutureWarning: get_duration() keyword argument 'filename' has been renamed to 'path' in version 0.10.0.\n",
      "\tThis alias will be removed in version 1.0.\n",
      "  duration = librosa.get_duration(filename=audio_path)\n",
      "Analyzing F:\\Deepfake-Audio-Detector\\datasets\\for-dataset\\train\\fake durations: 100%|██████████| 32976/32976 [05:42<00:00, 96.33it/s] \n",
      "Analyzing F:\\Deepfake-Audio-Detector\\datasets\\for-dataset\\test\\real durations:   0%|          | 0/6768 [00:00<?, ?it/s]C:\\Users\\Nekloyh\\AppData\\Local\\Temp\\ipykernel_31164\\1797470287.py:9: FutureWarning: get_duration() keyword argument 'filename' has been renamed to 'path' in version 0.10.0.\n",
      "\tThis alias will be removed in version 1.0.\n",
      "  duration = librosa.get_duration(filename=audio_path)\n",
      "Analyzing F:\\Deepfake-Audio-Detector\\datasets\\for-dataset\\test\\real durations: 100%|██████████| 6768/6768 [01:07<00:00, 100.52it/s]\n",
      "Analyzing F:\\Deepfake-Audio-Detector\\datasets\\for-dataset\\test\\fake durations:   0%|          | 0/2778 [00:00<?, ?it/s]C:\\Users\\Nekloyh\\AppData\\Local\\Temp\\ipykernel_31164\\1797470287.py:9: FutureWarning: get_duration() keyword argument 'filename' has been renamed to 'path' in version 0.10.0.\n",
      "\tThis alias will be removed in version 1.0.\n",
      "  duration = librosa.get_duration(filename=audio_path)\n",
      "Analyzing F:\\Deepfake-Audio-Detector\\datasets\\for-dataset\\test\\fake durations: 100%|██████████| 2778/2778 [00:27<00:00, 99.64it/s] \n",
      "Analyzing F:\\Deepfake-Audio-Detector\\datasets\\for-dataset\\val\\real durations:   0%|          | 0/3374 [00:00<?, ?it/s]C:\\Users\\Nekloyh\\AppData\\Local\\Temp\\ipykernel_31164\\1797470287.py:9: FutureWarning: get_duration() keyword argument 'filename' has been renamed to 'path' in version 0.10.0.\n",
      "\tThis alias will be removed in version 1.0.\n",
      "  duration = librosa.get_duration(filename=audio_path)\n",
      "Analyzing F:\\Deepfake-Audio-Detector\\datasets\\for-dataset\\val\\real durations: 100%|██████████| 3374/3374 [00:33<00:00, 100.35it/s]\n",
      "Analyzing F:\\Deepfake-Audio-Detector\\datasets\\for-dataset\\val\\fake durations:   0%|          | 0/1399 [00:00<?, ?it/s]C:\\Users\\Nekloyh\\AppData\\Local\\Temp\\ipykernel_31164\\1797470287.py:9: FutureWarning: get_duration() keyword argument 'filename' has been renamed to 'path' in version 0.10.0.\n",
      "\tThis alias will be removed in version 1.0.\n",
      "  duration = librosa.get_duration(filename=audio_path)\n",
      "Analyzing F:\\Deepfake-Audio-Detector\\datasets\\for-dataset\\val\\fake durations: 100%|██████████| 1399/1399 [00:14<00:00, 99.79it/s] \n"
     ]
    }
   ],
   "source": [
    "# FoR dataset\n",
    "FOR_PATH = \"F:\\\\Deepfake-Audio-Detector\\\\datasets\\\\for-dataset\"\n",
    "DES_PATH = \"F:\\\\Deepfake-Audio-Detector\\\\scripts\\\\4_normalize_for_dataset_graphs\"\n",
    "set_types = [\"train\", \"test\", \"val\"]\n",
    "\n",
    "bins = np.arange(\n",
    "    MIN_PLOT_DURATION_SEC, \n",
    "    MAX_PLOT_DURATION_SEC + HISTOGRAM_BIN_SIZE, \n",
    "    HISTOGRAM_BIN_SIZE,\n",
    "    )\n",
    "\n",
    "for set_type in set_types:\n",
    "    for class_name in [\"real\", \"fake\"]:\n",
    "        durations = analyze_durations(FOR_PATH, os.path.join(set_type, class_name))\n",
    "        plt.figure(figsize=(20, 6))\n",
    "        sns.histplot(durations, bins=bins, kde=True)\n",
    "        plt.title(f\"Duration Distribution for {set_type} - {class_name}\")\n",
    "        plt.xlabel(\"Duration (seconds)\")\n",
    "        plt.ylabel(\"Frequency\")\n",
    "        plt.grid()\n",
    "        plt.savefig(f\"{DES_PATH}\\\\{set_type}_{class_name}_duration_distribution.png\")\n",
    "        plt.close()"
   ]
  },
  {
   "cell_type": "code",
   "execution_count": 7,
   "id": "d800a2ad",
   "metadata": {},
   "outputs": [
    {
     "name": "stderr",
     "output_type": "stream",
     "text": [
      "C:\\Users\\Nekloyh\\AppData\\Local\\Temp\\ipykernel_31164\\1697820484.py:7: FutureWarning: get_duration() keyword argument 'filename' has been renamed to 'path' in version 0.10.0.\n",
      "\tThis alias will be removed in version 1.0.\n",
      "  duration = librosa.get_duration(filename=file_path)\n"
     ]
    },
    {
     "name": "stdout",
     "output_type": "stream",
     "text": [
      "Deleted 908 files shorter than 1.5 seconds in F:\\Deepfake-Audio-Detector\\datasets\\for-dataset\\train\\real\n",
      "Number of files available in train\\real: 49222\n",
      "Deleted 12527 files shorter than 1.5 seconds in F:\\Deepfake-Audio-Detector\\datasets\\for-dataset\\train\\fake\n",
      "Number of files available in train\\fake: 20449\n",
      "Deleted 28 files shorter than 1.5 seconds in F:\\Deepfake-Audio-Detector\\datasets\\for-dataset\\test\\real\n",
      "Number of files available in test\\real: 6740\n",
      "Deleted 406 files shorter than 1.5 seconds in F:\\Deepfake-Audio-Detector\\datasets\\for-dataset\\test\\fake\n",
      "Number of files available in test\\fake: 2372\n",
      "Deleted 20 files shorter than 1.5 seconds in F:\\Deepfake-Audio-Detector\\datasets\\for-dataset\\val\\real\n",
      "Number of files available in val\\real: 3354\n",
      "Deleted 183 files shorter than 1.5 seconds in F:\\Deepfake-Audio-Detector\\datasets\\for-dataset\\val\\fake\n",
      "Number of files available in val\\fake: 1216\n"
     ]
    }
   ],
   "source": [
    "def filter_and_delete_short_files(dataset_path, min_duration):\n",
    "    count_deleted = 0\n",
    "    for file in os.listdir(dataset_path):\n",
    "        file_path = os.path.join(dataset_path, file)\n",
    "        \n",
    "        try:\n",
    "            duration = librosa.get_duration(filename=file_path)\n",
    "            if duration < min_duration:\n",
    "                os.remove(file_path)\n",
    "                count_deleted += 1\n",
    "        except Exception as e:\n",
    "            print(f\"Error processing {file_path}: {e}\")\n",
    "    print(f\"Deleted {count_deleted} files shorter than {min_duration} seconds in {dataset_path}\")\n",
    "    \n",
    "MIN_DURATION = 1.5\n",
    "\n",
    "base_dir = \"F:\\\\Deepfake-Audio-Detector\\\\datasets\\\\for-dataset\"\n",
    "set_types = [\"train\", \"test\", \"val\"]\n",
    "\n",
    "for set_type in set_types:\n",
    "    for class_name in [\"real\", \"fake\"]:\n",
    "        detele_dataset_path = os.path.join(base_dir, set_type, class_name)\n",
    "        filter_and_delete_short_files(detele_dataset_path, MIN_DURATION)\n",
    "        print(f\"Number of files available in {set_type}\\\\{class_name}: {len(os.listdir(detele_dataset_path))}\")"
   ]
  }
 ],
 "metadata": {
  "kernelspec": {
   "display_name": "Python 3",
   "language": "python",
   "name": "python3"
  },
  "language_info": {
   "codemirror_mode": {
    "name": "ipython",
    "version": 3
   },
   "file_extension": ".py",
   "mimetype": "text/x-python",
   "name": "python",
   "nbconvert_exporter": "python",
   "pygments_lexer": "ipython3",
   "version": "3.10.16"
  }
 },
 "nbformat": 4,
 "nbformat_minor": 5
}
